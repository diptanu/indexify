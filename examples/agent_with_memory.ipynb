{
 "cells": [
  {
   "cell_type": "code",
   "execution_count": null,
   "metadata": {},
   "outputs": [],
   "source": [
    "\"\"\"Example of using langchain agents with indexify memory and search.\"\"\"\n",
    "\n",
    "from langchain.agents import ZeroShotAgent, Tool, AgentExecutor\n",
    "from langchain.memory import ConversationEntityMemory\n",
    "from langchain import OpenAI, LLMChain\n",
    "\n",
    "from indexify.indexify import Indexify, CreateIndexArgs, Metric, TextSplitter\n",
    "from indexify.tools.search import IndexifySearchTool\n",
    "from indexify.memory.indexify_entity_store import IndexifyEntityStore"
   ]
  },
  {
   "cell_type": "code",
   "execution_count": null,
   "metadata": {},
   "outputs": [],
   "source": [
    "# Create an index\n",
    "args = CreateIndexArgs(\n",
    "    name='my_index',\n",
    "    indexify_url='http://localhost:8900',\n",
    "    embedding_model=\"all-minilm-l12-v2\",\n",
    "    metric=Metric.COSINE,\n",
    "    splitter=TextSplitter.NEWLINE,\n",
    "    unique_labels=[\"doc_name\", \"page_num\"]\n",
    ")\n",
    "index = Indexify.create_index(*args)"
   ]
  },
  {
   "cell_type": "code",
   "execution_count": null,
   "metadata": {},
   "outputs": [],
   "source": [
    "# Create a memory store\n",
    "db_url = \"sqlite://indexify.db\"\n",
    "memory = ConversationEntityMemory(memory_key=\"chat_history\", entity_store=IndexifyEntityStore(db_url))\n",
    "\n",
    "# Use tool to search memory\n",
    "search_tool = IndexifySearchTool(args.name, args.indexify_url)\n",
    "tools = [\n",
    "    Tool(\n",
    "        name = \"indexify_memory_search\",\n",
    "        func=search_tool.run,\n",
    "        description=\"Search memory embeddings for information.\"\n",
    "    )\n",
    "]"
   ]
  },
  {
   "cell_type": "code",
   "execution_count": null,
   "metadata": {},
   "outputs": [],
   "source": [
    "# Create prompt style\n",
    "prefix = \"\"\"Have a conversation with a human, answering the following questions as best you can. You have access to the following tools:\"\"\"\n",
    "suffix = \"\"\"Begin!\"\n",
    "\n",
    "{chat_history}\n",
    "Question: {input}\n",
    "{agent_scratchpad}\"\"\"\n",
    "\n",
    "prompt = ZeroShotAgent.create_prompt(\n",
    "    tools, \n",
    "    prefix=prefix, \n",
    "    suffix=suffix, \n",
    "    input_variables=[\"input\", \"chat_history\", \"agent_scratchpad\"]\n",
    ")"
   ]
  },
  {
   "cell_type": "code",
   "execution_count": null,
   "metadata": {},
   "outputs": [],
   "source": [
    "# Create chain and agent\n",
    "llm_chain = LLMChain(llm=OpenAI(temperature=0), prompt=prompt, memory=memory)\n",
    "agent = ZeroShotAgent(llm_chain=llm_chain, tools=tools, verbose=True)\n",
    "agent_chain = AgentExecutor.from_agent_and_tools(agent=agent, tools=tools, verbose=True, memory=memory)"
   ]
  },
  {
   "cell_type": "code",
   "execution_count": null,
   "metadata": {},
   "outputs": [],
   "source": [
    "# Run\n",
    "agent_chain.run(input=\"What is the capital of France?\")"
   ]
  }
 ],
 "metadata": {
  "language_info": {
   "name": "python"
  },
  "orig_nbformat": 4
 },
 "nbformat": 4,
 "nbformat_minor": 2
}
